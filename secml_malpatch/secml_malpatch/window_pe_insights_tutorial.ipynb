{
 "cells": [
  {
   "cell_type": "markdown",
   "metadata": {
    "pycharm": {
     "name": "#%% md\n"
    }
   },
   "source": [
    "# The Windows PE file format\n",
    "There are tons of Python libraries for dissecting programs, one of the best is [lief](https://github.com/lief-project/LIEF).\n",
    "The latter is also used inside `secml-malware` to perturb samples, as shown in the other tutorials.\n",
    "Opening an executable is straight-forward:"
   ]
  },
  {
   "cell_type": "code",
   "execution_count": 5,
   "metadata": {
    "pycharm": {
     "name": "#%%\n"
    }
   },
   "outputs": [],
   "source": [
    "import lief\n",
    "\n",
    "exe_path = 'PATH TO YOUR EXE'\n",
    "exe_object: lief.PE = lief.parse(exe_path)"
   ]
  },
  {
   "cell_type": "markdown",
   "metadata": {
    "pycharm": {
     "name": "#%% md\n"
    }
   },
   "source": [
    "Now, the `exe_object` contains all the information of the loaded program.\n",
    "We can look for all the components. For instance, here is how you can read the header metadata:"
   ]
  },
  {
   "cell_type": "code",
   "execution_count": 6,
   "metadata": {
    "pycharm": {
     "name": "#%%\n"
    }
   },
   "outputs": [
    {
     "name": "stdout",
     "output_type": "stream",
     "text": [
      "DOS Header\n",
      "Magic:                        5a4d\n",
      "Used Bytes In The LastPage:   90\n",
      "File Size In Pages:           3\n",
      "Number Of Relocation:         0\n",
      "Header Size In Paragraphs:    4\n",
      "Minimum Extra Paragraphs:     0\n",
      "Maximum Extra Paragraphs:     ffff\n",
      "Initial Relative SS:          0\n",
      "Initial SP:                   b8\n",
      "Checksum:                     0\n",
      "Initial IP:                   0\n",
      "Initial Relative CS:          0\n",
      "Address Of Relocation Table:  40\n",
      "Overlay Number:               0\n",
      "OEM id:                       0\n",
      "OEM info:                     0\n",
      "Address Of New Exe Header:    100\n",
      "\n",
      "PE Header\n",
      "Signature:                    50 45 0 0 \n",
      "Machine:                      I386\n",
      "Number Of Sections:           5\n",
      "Pointer To Symbol Table:      0\n",
      "Number Of Symbols:            0\n",
      "Size Of Optional Header:      e0\n",
      "Characteristics:              EXECUTABLE_IMAGE - CHARA_32BIT_MACHINE\n",
      "Time Date Stamp:              56ac266b\n",
      "\n",
      "Optional Header\n",
      "Magic:                           10b\n",
      "Major Linker Version:            a\n",
      "Minor Linker Version:            0\n",
      "Size Of Code:                    6fc00\n",
      "Size Of Initialized Data:        57c00\n",
      "Size Of Uninitialized Data:      0\n",
      "Address Of Entry Point:          4d37d\n",
      "Base Of Code:                    1000\n",
      "Base Of Data:                    71000\n",
      "Image Base:                      400000\n",
      "Section Alignment:               1000\n",
      "File Alignment:                  200\n",
      "Major Operating System Version:  5\n",
      "Minor Operating System Version:  1\n",
      "Major Image Version:             0\n",
      "Minor Image Version:             0\n",
      "Major Subsystem Version:         5\n",
      "Minor Subsystem Version:         1\n",
      "Win32 Version Value:             0\n",
      "Size Of Image:                   cb000\n",
      "Size Of Headers:                 400\n",
      "CheckSum:                        c7a97\n",
      "Subsystem:                       WINDOWS_GUI\n",
      "DLL Characteristics:             \n",
      "Size Of Stack Reserve:           100000\n",
      "Size Of Stack Commit:            1000\n",
      "Size Of Heap Reserve:            100000\n",
      "Size Of Heap Commit:             1000\n",
      "Loader Flags:                    0\n",
      "Number Of RVA And Size:          10\n",
      "\n",
      "Sections\n",
      ".text {SECTION_CHARACTERISTICS.CNT_CODE, SECTION_CHARACTERISTICS.MEM_EXECUTE, SECTION_CHARACTERISTICS.MEM_READ}\n",
      ".rdata {SECTION_CHARACTERISTICS.CNT_INITIALIZED_DATA, SECTION_CHARACTERISTICS.MEM_READ}\n",
      ".data {SECTION_CHARACTERISTICS.CNT_INITIALIZED_DATA, SECTION_CHARACTERISTICS.MEM_READ, SECTION_CHARACTERISTICS.MEM_WRITE}\n",
      ".rsrc {SECTION_CHARACTERISTICS.CNT_INITIALIZED_DATA, SECTION_CHARACTERISTICS.MEM_READ}\n",
      ".reloc {SECTION_CHARACTERISTICS.CNT_INITIALIZED_DATA, SECTION_CHARACTERISTICS.MEM_DISCARDABLE, SECTION_CHARACTERISTICS.MEM_READ}\n"
     ]
    }
   ],
   "source": [
    "print('DOS Header')\n",
    "print(exe_object.dos_header)\n",
    "\n",
    "print('PE Header')\n",
    "print(exe_object.header)\n",
    "\n",
    "print('Optional Header')\n",
    "print(exe_object.optional_header)\n",
    "\n",
    "print('Sections')\n",
    "for s in exe_object.sections:\n",
    "\tprint(s.name, s.characteristics_lists)"
   ]
  },
  {
   "cell_type": "markdown",
   "metadata": {
    "pycharm": {
     "name": "#%% md\n"
    }
   },
   "source": [
    "This library is also very useful for manipulating the EXEs.\n",
    "For instance, in few lines of code you can add sections to a program."
   ]
  },
  {
   "cell_type": "code",
   "execution_count": 8,
   "metadata": {
    "pycharm": {
     "name": "#%%\n"
    }
   },
   "outputs": [
    {
     "name": "stdout",
     "output_type": "stream",
     "text": [
      "Sections\n",
      ".text {SECTION_CHARACTERISTICS.CNT_CODE, SECTION_CHARACTERISTICS.MEM_EXECUTE, SECTION_CHARACTERISTICS.MEM_READ}\n",
      ".rdata {SECTION_CHARACTERISTICS.CNT_INITIALIZED_DATA, SECTION_CHARACTERISTICS.MEM_READ}\n",
      ".data {SECTION_CHARACTERISTICS.CNT_INITIALIZED_DATA, SECTION_CHARACTERISTICS.MEM_READ, SECTION_CHARACTERISTICS.MEM_WRITE}\n",
      ".rsrc {SECTION_CHARACTERISTICS.CNT_INITIALIZED_DATA, SECTION_CHARACTERISTICS.MEM_READ}\n",
      ".reloc {SECTION_CHARACTERISTICS.CNT_INITIALIZED_DATA, SECTION_CHARACTERISTICS.MEM_DISCARDABLE, SECTION_CHARACTERISTICS.MEM_READ}\n",
      ".newsec {SECTION_CHARACTERISTICS.MEM_DISCARDABLE}\n",
      ".newsec {SECTION_CHARACTERISTICS.MEM_DISCARDABLE}\n"
     ]
    }
   ],
   "source": [
    "# Name your new section. Size constraint: up to 8 bytes at maximum!\n",
    "new_section : lief.PE.Section = lief.PE.Section()\n",
    "new_section.name = '.newsec'\n",
    "new_section.content = [ord(i) for i in \"This is my newly created section\"]\n",
    "new_section.characteristics = lief.PE.SECTION_CHARACTERISTICS.MEM_DISCARDABLE\n",
    "exe_object.add_section(new_section)\n",
    "\n",
    "# New section in place! Now we use lief to rebuild the binary.\n",
    "builder = lief.PE.Builder(exe_object)\n",
    "builder.build()\n",
    "exe_object = lief.PE.parse(builder.get_build())\n",
    "print('Sections')\n",
    "for s in exe_object.sections:\n",
    "\tprint(s.name, s.characteristics_lists)\n",
    "builder.write('new_exe.file')"
   ]
  },
  {
   "cell_type": "markdown",
   "metadata": {
    "pycharm": {
     "name": "#%% md\n"
    }
   },
   "source": [
    "As you can see, the new section appeared as last one.\n",
    "More information on how to use lief on the [documentation of the library](https://lief-project.github.io/doc/stable/index.html)."
   ]
  }
 ],
 "metadata": {
  "kernelspec": {
   "display_name": "Python 3",
   "language": "python",
   "name": "python3"
  },
  "language_info": {
   "codemirror_mode": {
    "name": "ipython",
    "version": 3
   },
   "file_extension": ".py",
   "mimetype": "text/x-python",
   "name": "python",
   "nbconvert_exporter": "python",
   "pygments_lexer": "ipython3",
   "version": "3.7.7"
  }
 },
 "nbformat": 4,
 "nbformat_minor": 1
}
